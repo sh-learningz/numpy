{
 "cells": [
  {
   "cell_type": "markdown",
   "id": "ed66a824-51c8-4de7-af03-9e8a32f4c309",
   "metadata": {
    "tags": []
   },
   "source": [
    "# learning Numpy\n",
    "\n",
    "#### [Numpy crash corse by NeuralNine](https://www.youtube.com/watch?v=4c_mwnYdbhQ)"
   ]
  },
  {
   "cell_type": "markdown",
   "id": "12410b46-4f5b-4c5f-9c9d-3978139dcc88",
   "metadata": {},
   "source": [
    "for install numpy we can use this command:\n",
    "```\n",
    "$ pip install numpy\n",
    "```\n",
    "\n",
    "or\n",
    "\n",
    "if you using Anaconda you can use this command:\n",
    "```\n",
    "% conda install numpy\n",
    "```"
   ]
  },
  {
   "cell_type": "code",
   "execution_count": 1,
   "id": "1363432e-993f-4e58-9517-de9aff72edeb",
   "metadata": {},
   "outputs": [],
   "source": [
    "#first of all for using this lib in our code we should import it\n",
    "import numpy as np"
   ]
  },
  {
   "cell_type": "markdown",
   "id": "a023fcb8-c80e-44eb-828c-cf6c8f01b079",
   "metadata": {
    "tags": []
   },
   "source": [
    "## Arrays:\n",
    "\n",
    "Normally, in Python, arrays are defined as follows, and we could display their values using the `print` command in the order we want."
   ]
  },
  {
   "cell_type": "code",
   "execution_count": 4,
   "id": "fc659907-da11-4530-b98d-3f35e850a245",
   "metadata": {},
   "outputs": [
    {
     "name": "stdout",
     "output_type": "stream",
     "text": [
      "[1, 2, 3, 4, 5]\n",
      "2\n",
      "[2, 3, 4]\n",
      "5\n"
     ]
    }
   ],
   "source": [
    "a = [1, 2, 3, 4, 5]\n",
    "\n",
    "print(a)\n",
    "print(a[1])\n",
    "print(a[1:4])\n",
    "print(a[-1])"
   ]
  },
  {
   "cell_type": "markdown",
   "id": "ff32ef18-6c0a-4aa9-817b-2adfec983b31",
   "metadata": {},
   "source": [
    "In the numpy library, we also have the possibility of creating arrays, which we can define as follows:"
   ]
  },
  {
   "cell_type": "code",
   "execution_count": 5,
   "id": "b31caf6d-63e0-4778-acab-1902796ddafd",
   "metadata": {},
   "outputs": [],
   "source": [
    "a = np.array([1, 2, 3, 4, 5])"
   ]
  },
  {
   "cell_type": "markdown",
   "id": "46ffa491-0150-423d-97a2-3c75bb92e724",
   "metadata": {},
   "source": [
    "One of the differences of this array is its type. As you can see, the type of this array is `numpy.ndarray`"
   ]
  },
  {
   "cell_type": "code",
   "execution_count": 6,
   "id": "ff6c2258-aca9-4460-808b-0388298f51be",
   "metadata": {},
   "outputs": [
    {
     "data": {
      "text/plain": [
       "numpy.ndarray"
      ]
     },
     "execution_count": 6,
     "metadata": {},
     "output_type": "execute_result"
    }
   ],
   "source": [
    "type(a)"
   ]
  },
  {
   "cell_type": "markdown",
   "id": "00d7a68b-2d70-4042-9394-347261b0d2cd",
   "metadata": {},
   "source": [
    "These arrays can also be output like Python lists:"
   ]
  },
  {
   "cell_type": "code",
   "execution_count": 8,
   "id": "2a6971b1-29c8-4254-a63a-a379ee6693eb",
   "metadata": {},
   "outputs": [
    {
     "name": "stdout",
     "output_type": "stream",
     "text": [
      "[1 2 3 4 5]\n",
      "2\n",
      "[2 3 4 5]\n",
      "[1 2 3]\n"
     ]
    }
   ],
   "source": [
    "print(a)\n",
    "print(a[1])\n",
    "print(a[1:])\n",
    "print(a[:-2])"
   ]
  },
  {
   "cell_type": "code",
   "execution_count": 10,
   "id": "30036eff-9c9c-4151-86cd-ad804cee2508",
   "metadata": {},
   "outputs": [
    {
     "name": "stdout",
     "output_type": "stream",
     "text": [
      "[ 1  2 10  4  5]\n"
     ]
    }
   ],
   "source": [
    "a[2] = 10\n",
    "\n",
    "print(a)"
   ]
  },
  {
   "cell_type": "markdown",
   "id": "6c2a0607-4bdf-48af-9af9-2cbf878a936b",
   "metadata": {
    "tags": []
   },
   "source": [
    "### multi-dimensional arrays:\n",
    "\n",
    "In general, in Python lists, we can only use one-dimensional arrays. But numpy arrays overcome this weakness and multi-dimensional arrays can be designed with them, as in the following example:"
   ]
  },
  {
   "cell_type": "code",
   "execution_count": 13,
   "id": "27abae8a-75ff-4731-a796-e06ea3531d11",
   "metadata": {},
   "outputs": [],
   "source": [
    "a_mul = np.array([[1, 2, 3, 1],\n",
    "                  [4, 5, 6, 1],\n",
    "                  [7, 8, 9, 1]])"
   ]
  },
  {
   "cell_type": "code",
   "execution_count": 14,
   "id": "b0e2ae4d-b0aa-4b6e-a07e-44028fc7bc94",
   "metadata": {},
   "outputs": [
    {
     "name": "stdout",
     "output_type": "stream",
     "text": [
      "[1 2 3 1]\n",
      "2\n"
     ]
    }
   ],
   "source": [
    "print(a_mul[0])\n",
    "\n",
    "# get second element of first list\n",
    "print(a_mul[0, 1])"
   ]
  },
  {
   "cell_type": "markdown",
   "id": "1f99bd4c-f604-4929-80b6-1d39597a1b66",
   "metadata": {},
   "source": [
    "#### Array Attributes:\n",
    "we also have attributes that we can't access that easily with python lists, as in the following example"
   ]
  },
  {
   "cell_type": "code",
   "execution_count": 16,
   "id": "25270829-1e3a-4c6e-abc3-ad9eb0e35367",
   "metadata": {},
   "outputs": [
    {
     "name": "stdout",
     "output_type": "stream",
     "text": [
      "shape of the array: (3, 4)\n",
      "number of dimensions: 2\n",
      "total number of elements: 12\n",
      "type of the elements: int32\n"
     ]
    }
   ],
   "source": [
    "print(\"shape of the array:\", a_mul.shape)\n",
    "print(\"number of dimensions:\", a_mul.ndim)\n",
    "print(\"total number of elements:\", a_mul.size)\n",
    "print(\"type of the elements:\", a_mul.dtype)"
   ]
  },
  {
   "cell_type": "code",
   "execution_count": null,
   "id": "115c9c99-9bd4-497b-9389-478a4f7aec76",
   "metadata": {},
   "outputs": [],
   "source": []
  }
 ],
 "metadata": {
  "kernelspec": {
   "display_name": "Python 3 (ipykernel)",
   "language": "python",
   "name": "python3"
  },
  "language_info": {
   "codemirror_mode": {
    "name": "ipython",
    "version": 3
   },
   "file_extension": ".py",
   "mimetype": "text/x-python",
   "name": "python",
   "nbconvert_exporter": "python",
   "pygments_lexer": "ipython3",
   "version": "3.10.5"
  }
 },
 "nbformat": 4,
 "nbformat_minor": 5
}
