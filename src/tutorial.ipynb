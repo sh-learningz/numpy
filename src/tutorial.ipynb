{
 "cells": [
  {
   "cell_type": "markdown",
   "id": "ed66a824-51c8-4de7-af03-9e8a32f4c309",
   "metadata": {},
   "source": [
    "# learning Numpy\n",
    "\n",
    "#### [Numpy crash corse by NeuralNine](https://www.youtube.com/watch?v=4c_mwnYdbhQ)"
   ]
  },
  {
   "cell_type": "markdown",
   "id": "12410b46-4f5b-4c5f-9c9d-3978139dcc88",
   "metadata": {},
   "source": [
    "for install numpy we can use this command:\n",
    "```\n",
    "$ pip install numpy\n",
    "```\n",
    "\n",
    "or\n",
    "\n",
    "if you using Anaconda you can use this command:\n",
    "```\n",
    "% conda install numpy\n",
    "```"
   ]
  },
  {
   "cell_type": "code",
   "execution_count": 1,
   "id": "1363432e-993f-4e58-9517-de9aff72edeb",
   "metadata": {},
   "outputs": [],
   "source": [
    "#first of all for using this lib in our code we should import it\n",
    "import numpy as np"
   ]
  },
  {
   "cell_type": "code",
   "execution_count": null,
   "id": "78abdf7f-a369-457d-ada4-daa3bc1ca24c",
   "metadata": {},
   "outputs": [],
   "source": []
  }
 ],
 "metadata": {
  "kernelspec": {
   "display_name": "Python 3 (ipykernel)",
   "language": "python",
   "name": "python3"
  },
  "language_info": {
   "codemirror_mode": {
    "name": "ipython",
    "version": 3
   },
   "file_extension": ".py",
   "mimetype": "text/x-python",
   "name": "python",
   "nbconvert_exporter": "python",
   "pygments_lexer": "ipython3",
   "version": "3.10.5"
  }
 },
 "nbformat": 4,
 "nbformat_minor": 5
}
