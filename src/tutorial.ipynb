{
 "cells": [
  {
   "cell_type": "markdown",
   "id": "ed66a824-51c8-4de7-af03-9e8a32f4c309",
   "metadata": {
    "tags": []
   },
   "source": [
    "# learning Numpy\n",
    "\n",
    "#### [Numpy crash corse by NeuralNine](https://www.youtube.com/watch?v=4c_mwnYdbhQ)"
   ]
  },
  {
   "cell_type": "markdown",
   "id": "12410b46-4f5b-4c5f-9c9d-3978139dcc88",
   "metadata": {},
   "source": [
    "for install numpy we can use this command:\n",
    "```\n",
    "$ pip install numpy\n",
    "```\n",
    "\n",
    "or\n",
    "\n",
    "if you using Anaconda you can use this command:\n",
    "```\n",
    "% conda install numpy\n",
    "```"
   ]
  },
  {
   "cell_type": "code",
   "execution_count": 1,
   "id": "1363432e-993f-4e58-9517-de9aff72edeb",
   "metadata": {},
   "outputs": [],
   "source": [
    "#first of all for using this lib in our code we should import it\n",
    "import numpy as np"
   ]
  },
  {
   "cell_type": "markdown",
   "id": "a023fcb8-c80e-44eb-828c-cf6c8f01b079",
   "metadata": {
    "tags": []
   },
   "source": [
    "## Arrays:\n",
    "\n",
    "Normally, in Python, arrays are defined as follows, and we could display their values using the `print` command in the order we want."
   ]
  },
  {
   "cell_type": "code",
   "execution_count": 2,
   "id": "fc659907-da11-4530-b98d-3f35e850a245",
   "metadata": {},
   "outputs": [
    {
     "name": "stdout",
     "output_type": "stream",
     "text": [
      "[1, 2, 3, 4, 5]\n",
      "2\n",
      "[2, 3, 4]\n",
      "5\n"
     ]
    }
   ],
   "source": [
    "a = [1, 2, 3, 4, 5]\n",
    "\n",
    "print(a)\n",
    "print(a[1])\n",
    "print(a[1:4])\n",
    "print(a[-1])"
   ]
  },
  {
   "cell_type": "markdown",
   "id": "ff32ef18-6c0a-4aa9-817b-2adfec983b31",
   "metadata": {},
   "source": [
    "In the numpy library, we also have the possibility of creating arrays, which we can define as follows:"
   ]
  },
  {
   "cell_type": "code",
   "execution_count": 3,
   "id": "b31caf6d-63e0-4778-acab-1902796ddafd",
   "metadata": {},
   "outputs": [],
   "source": [
    "a = np.array([1, 2, 3, 4, 5])"
   ]
  },
  {
   "cell_type": "markdown",
   "id": "46ffa491-0150-423d-97a2-3c75bb92e724",
   "metadata": {},
   "source": [
    "One of the differences of this array is its type. As you can see, the type of this array is `numpy.ndarray`"
   ]
  },
  {
   "cell_type": "code",
   "execution_count": 4,
   "id": "ff6c2258-aca9-4460-808b-0388298f51be",
   "metadata": {},
   "outputs": [
    {
     "data": {
      "text/plain": [
       "numpy.ndarray"
      ]
     },
     "execution_count": 4,
     "metadata": {},
     "output_type": "execute_result"
    }
   ],
   "source": [
    "type(a)"
   ]
  },
  {
   "cell_type": "markdown",
   "id": "00d7a68b-2d70-4042-9394-347261b0d2cd",
   "metadata": {},
   "source": [
    "These arrays can also be output like Python lists:"
   ]
  },
  {
   "cell_type": "code",
   "execution_count": 5,
   "id": "2a6971b1-29c8-4254-a63a-a379ee6693eb",
   "metadata": {},
   "outputs": [
    {
     "name": "stdout",
     "output_type": "stream",
     "text": [
      "[1 2 3 4 5]\n",
      "2\n",
      "[2 3 4 5]\n",
      "[1 2 3]\n"
     ]
    }
   ],
   "source": [
    "print(a)\n",
    "print(a[1])\n",
    "print(a[1:])\n",
    "print(a[:-2])"
   ]
  },
  {
   "cell_type": "code",
   "execution_count": 6,
   "id": "30036eff-9c9c-4151-86cd-ad804cee2508",
   "metadata": {},
   "outputs": [
    {
     "name": "stdout",
     "output_type": "stream",
     "text": [
      "[ 1  2 10  4  5]\n"
     ]
    }
   ],
   "source": [
    "a[2] = 10\n",
    "\n",
    "print(a)"
   ]
  },
  {
   "cell_type": "markdown",
   "id": "6c2a0607-4bdf-48af-9af9-2cbf878a936b",
   "metadata": {
    "tags": []
   },
   "source": [
    "### multi-dimensional arrays:\n",
    "\n",
    "In general, in Python lists, we can only use one-dimensional arrays. But numpy arrays overcome this weakness and multi-dimensional arrays can be designed with them, as in the following example:"
   ]
  },
  {
   "cell_type": "code",
   "execution_count": 7,
   "id": "27abae8a-75ff-4731-a796-e06ea3531d11",
   "metadata": {},
   "outputs": [],
   "source": [
    "a_mul = np.array([[1, 2, 3, 1],\n",
    "                  [4, 5, 6, 1],\n",
    "                  [7, 8, 9, 1]])"
   ]
  },
  {
   "cell_type": "code",
   "execution_count": 8,
   "id": "b0e2ae4d-b0aa-4b6e-a07e-44028fc7bc94",
   "metadata": {},
   "outputs": [
    {
     "name": "stdout",
     "output_type": "stream",
     "text": [
      "[1 2 3 1]\n",
      "2\n"
     ]
    }
   ],
   "source": [
    "print(a_mul[0])\n",
    "\n",
    "# get second element of first list\n",
    "print(a_mul[0, 1])"
   ]
  },
  {
   "cell_type": "markdown",
   "id": "1f99bd4c-f604-4929-80b6-1d39597a1b66",
   "metadata": {},
   "source": [
    "#### Array Attributes:\n",
    "we also have attributes that we can't access that easily with python lists, as in the following example"
   ]
  },
  {
   "cell_type": "code",
   "execution_count": 9,
   "id": "25270829-1e3a-4c6e-abc3-ad9eb0e35367",
   "metadata": {},
   "outputs": [
    {
     "name": "stdout",
     "output_type": "stream",
     "text": [
      "shape of the array: (3, 4)\n",
      "number of dimensions: 2\n",
      "total number of elements: 12\n",
      "type of the elements: int32\n"
     ]
    }
   ],
   "source": [
    "print(\"shape of the array:\", a_mul.shape)\n",
    "print(\"number of dimensions:\", a_mul.ndim)\n",
    "print(\"total number of elements:\", a_mul.size)\n",
    "print(\"type of the elements:\", a_mul.dtype)"
   ]
  },
  {
   "cell_type": "markdown",
   "id": "eb2b7866-b9fb-4046-b55a-b3a8e849e7cc",
   "metadata": {},
   "source": [
    "## Numpy data types:"
   ]
  },
  {
   "cell_type": "code",
   "execution_count": 10,
   "id": "2d389144-d90e-4b6c-ba98-dd7a5e61e084",
   "metadata": {},
   "outputs": [],
   "source": [
    "a = np.array([[1, 2, 3],\n",
    "              [4, \"hello\", 6],\n",
    "              [7, 8, 9]])"
   ]
  },
  {
   "cell_type": "code",
   "execution_count": 11,
   "id": "2f429068-6374-4880-895c-6874a3f180b2",
   "metadata": {},
   "outputs": [
    {
     "data": {
      "text/plain": [
       "dtype('<U11')"
      ]
     },
     "execution_count": 11,
     "metadata": {},
     "output_type": "execute_result"
    }
   ],
   "source": [
    "a.dtype"
   ]
  },
  {
   "cell_type": "code",
   "execution_count": 12,
   "id": "000d1663-155e-4289-87d1-f78cd06ff7c3",
   "metadata": {},
   "outputs": [
    {
     "data": {
      "text/plain": [
       "numpy.str_"
      ]
     },
     "execution_count": 12,
     "metadata": {},
     "output_type": "execute_result"
    }
   ],
   "source": [
    "type(a[0][0])"
   ]
  },
  {
   "cell_type": "code",
   "execution_count": 17,
   "id": "2fd4a4f1-c58a-4336-b670-d73dd4050c63",
   "metadata": {},
   "outputs": [
    {
     "name": "stdout",
     "output_type": "stream",
     "text": [
      "<U11\n",
      "<U1\n",
      "5\n",
      "------------------------------------------------\n",
      "\n",
      "float32\n",
      "float32\n",
      "5.0\n"
     ]
    }
   ],
   "source": [
    "# type casting in numpy\n",
    "a = np.array([[1, 2, 3],\n",
    "              [4, \"5\", 6],\n",
    "              [7, 8, 9]])\n",
    "b = np.array([[1, 2, 3],\n",
    "              [4, \"5\", 6],\n",
    "              [7, 8, 9]], dtype = np.float32)\n",
    "\n",
    "print(a.dtype)\n",
    "print(a[1][1].dtype)\n",
    "print(a[1, 1])\n",
    "\n",
    "print(\"------------------------------------------------\\n\")\n",
    "\n",
    "print(b.dtype)\n",
    "print(b[1][1].dtype)\n",
    "print(b[1, 1])"
   ]
  },
  {
   "cell_type": "markdown",
   "id": "186a676b-fe25-44d4-a7f0-121fc174e826",
   "metadata": {},
   "source": [
    "in numpy arrays we so have object data type."
   ]
  },
  {
   "cell_type": "code",
   "execution_count": 20,
   "id": "7977e643-96ac-4778-9af5-07450cb01801",
   "metadata": {},
   "outputs": [
    {
     "name": "stdout",
     "output_type": "stream",
     "text": [
      "object\n"
     ]
    }
   ],
   "source": [
    "d = {\"1\" : \"A\"}\n",
    "\n",
    "a = np.array([[1, 2, 3],\n",
    "              [4, d, 6],\n",
    "              [7, 8, 9]])\n",
    "\n",
    "print(a.dtype)"
   ]
  },
  {
   "cell_type": "markdown",
   "id": "d2e7dd58-76a6-4127-b6b9-197df20ffcff",
   "metadata": {},
   "source": [
    "## feeling Arrays"
   ]
  },
  {
   "cell_type": "markdown",
   "id": "fe90b2b8-1a7e-4394-b73a-9ad355519e63",
   "metadata": {},
   "source": [
    "In numpy, we can create arrays with default values. for example:"
   ]
  },
  {
   "cell_type": "code",
   "execution_count": 22,
   "id": "bc554c59-0316-49b4-aee0-b8e5d586b1ae",
   "metadata": {},
   "outputs": [],
   "source": [
    "a = np.full((2, 3, 4), 12)"
   ]
  },
  {
   "cell_type": "code",
   "execution_count": 23,
   "id": "8dfe14ca-ed53-44cb-ae9b-d13e9e3c623d",
   "metadata": {},
   "outputs": [
    {
     "name": "stdout",
     "output_type": "stream",
     "text": [
      "[[[12 12 12 12]\n",
      "  [12 12 12 12]\n",
      "  [12 12 12 12]]\n",
      "\n",
      " [[12 12 12 12]\n",
      "  [12 12 12 12]\n",
      "  [12 12 12 12]]]\n"
     ]
    }
   ],
   "source": [
    "print(a)"
   ]
  },
  {
   "cell_type": "code",
   "execution_count": 24,
   "id": "9749ca1a-ac0d-4b69-98ea-d99d165c016b",
   "metadata": {},
   "outputs": [
    {
     "name": "stdout",
     "output_type": "stream",
     "text": [
      "[[[0. 0.]\n",
      "  [0. 0.]\n",
      "  [0. 0.]\n",
      "  [0. 0.]\n",
      "  [0. 0.]]\n",
      "\n",
      " [[0. 0.]\n",
      "  [0. 0.]\n",
      "  [0. 0.]\n",
      "  [0. 0.]\n",
      "  [0. 0.]]\n",
      "\n",
      " [[0. 0.]\n",
      "  [0. 0.]\n",
      "  [0. 0.]\n",
      "  [0. 0.]\n",
      "  [0. 0.]]\n",
      "\n",
      " [[0. 0.]\n",
      "  [0. 0.]\n",
      "  [0. 0.]\n",
      "  [0. 0.]\n",
      "  [0. 0.]]\n",
      "\n",
      " [[0. 0.]\n",
      "  [0. 0.]\n",
      "  [0. 0.]\n",
      "  [0. 0.]\n",
      "  [0. 0.]]\n",
      "\n",
      " [[0. 0.]\n",
      "  [0. 0.]\n",
      "  [0. 0.]\n",
      "  [0. 0.]\n",
      "  [0. 0.]]\n",
      "\n",
      " [[0. 0.]\n",
      "  [0. 0.]\n",
      "  [0. 0.]\n",
      "  [0. 0.]\n",
      "  [0. 0.]]\n",
      "\n",
      " [[0. 0.]\n",
      "  [0. 0.]\n",
      "  [0. 0.]\n",
      "  [0. 0.]\n",
      "  [0. 0.]]\n",
      "\n",
      " [[0. 0.]\n",
      "  [0. 0.]\n",
      "  [0. 0.]\n",
      "  [0. 0.]\n",
      "  [0. 0.]]\n",
      "\n",
      " [[0. 0.]\n",
      "  [0. 0.]\n",
      "  [0. 0.]\n",
      "  [0. 0.]\n",
      "  [0. 0.]]]\n"
     ]
    }
   ],
   "source": [
    "zero = np.zeros((10, 5, 2))\n",
    "\n",
    "print(zero)"
   ]
  },
  {
   "cell_type": "code",
   "execution_count": 25,
   "id": "5a53fa69-039b-4ede-b141-9f5d425a5d76",
   "metadata": {},
   "outputs": [
    {
     "name": "stdout",
     "output_type": "stream",
     "text": [
      "[[[1. 1.]\n",
      "  [1. 1.]\n",
      "  [1. 1.]\n",
      "  [1. 1.]\n",
      "  [1. 1.]]\n",
      "\n",
      " [[1. 1.]\n",
      "  [1. 1.]\n",
      "  [1. 1.]\n",
      "  [1. 1.]\n",
      "  [1. 1.]]\n",
      "\n",
      " [[1. 1.]\n",
      "  [1. 1.]\n",
      "  [1. 1.]\n",
      "  [1. 1.]\n",
      "  [1. 1.]]\n",
      "\n",
      " [[1. 1.]\n",
      "  [1. 1.]\n",
      "  [1. 1.]\n",
      "  [1. 1.]\n",
      "  [1. 1.]]\n",
      "\n",
      " [[1. 1.]\n",
      "  [1. 1.]\n",
      "  [1. 1.]\n",
      "  [1. 1.]\n",
      "  [1. 1.]]\n",
      "\n",
      " [[1. 1.]\n",
      "  [1. 1.]\n",
      "  [1. 1.]\n",
      "  [1. 1.]\n",
      "  [1. 1.]]\n",
      "\n",
      " [[1. 1.]\n",
      "  [1. 1.]\n",
      "  [1. 1.]\n",
      "  [1. 1.]\n",
      "  [1. 1.]]\n",
      "\n",
      " [[1. 1.]\n",
      "  [1. 1.]\n",
      "  [1. 1.]\n",
      "  [1. 1.]\n",
      "  [1. 1.]]\n",
      "\n",
      " [[1. 1.]\n",
      "  [1. 1.]\n",
      "  [1. 1.]\n",
      "  [1. 1.]\n",
      "  [1. 1.]]\n",
      "\n",
      " [[1. 1.]\n",
      "  [1. 1.]\n",
      "  [1. 1.]\n",
      "  [1. 1.]\n",
      "  [1. 1.]]]\n"
     ]
    }
   ],
   "source": [
    "ones = np.ones((10, 5, 2))\n",
    "\n",
    "print(ones)"
   ]
  },
  {
   "cell_type": "code",
   "execution_count": 26,
   "id": "02779601-3378-426d-8080-4777c69ae2e8",
   "metadata": {},
   "outputs": [
    {
     "name": "stdout",
     "output_type": "stream",
     "text": [
      "[[[0.00000000e+000 6.95271031e-310 4.67386101e-321             nan\n",
      "   7.34794759e-312]\n",
      "  [0.00000000e+000 1.35538919e+224 2.19987190e-152 9.13573471e+242\n",
      "   5.84938530e+199]\n",
      "  [2.31973593e-152 2.17977185e+243 1.33167774e+179 4.26954078e+257\n",
      "   1.46922886e+195]\n",
      "  [2.02439916e+267 4.44390491e+252 2.01984976e+267 1.72051287e+243\n",
      "   7.63912449e-095]\n",
      "  [4.06869074e+233 7.21903950e+159 4.77092984e+180 1.14115712e+243\n",
      "   2.35052996e+180]]\n",
      "\n",
      " [[3.76899928e+077 1.14448054e+243 4.47593816e-091 1.03662233e-028\n",
      "   1.05957293e+214]\n",
      "  [6.01346953e-154 9.13612771e+242 1.16959399e+180 4.45512870e-091\n",
      "   4.66062919e+257]\n",
      "  [2.59345432e+161 2.46089539e-154 3.30164371e+180 3.15088789e+156\n",
      "   1.46922223e+195]\n",
      "  [5.48478900e+241 3.28097162e-085 1.27617601e-152 2.46175931e+198\n",
      "   4.70075024e+180]\n",
      "  [1.05879249e-153 4.26209424e+180 2.45652619e+198 2.46928474e-027\n",
      "   1.36429742e+161]]\n",
      "\n",
      " [[2.59966238e-085 2.88281490e+213 4.47593816e-091 3.15762705e+233\n",
      "   6.76321680e+199]\n",
      "  [3.02876088e-152 6.89966770e+212 8.54523176e+194 4.44390491e+252\n",
      "   6.79303675e+199]\n",
      "  [3.15756657e+233 2.46291825e+198 1.66041816e+243 4.81433642e+199\n",
      "   1.06400250e+248]\n",
      "  [1.21007349e-153 5.28562256e+180 3.10863987e+169 1.30935206e+214\n",
      "   3.45060540e-085]\n",
      "  [2.52303223e-258 4.28141385e+237 6.96410738e+252 2.60643965e+132\n",
      "   3.02878210e-086]]\n",
      "\n",
      " [[2.19980332e-152 6.79316909e+199 1.16632639e+200 1.23478406e-259\n",
      "   7.49775792e+247]\n",
      "  [1.96086573e+243 2.35053208e+180 6.08163525e+247 2.66057481e-260\n",
      "   7.48960144e+247]\n",
      "  [4.47593816e-091 2.55462337e-153 1.78489720e+161 1.05118618e-153\n",
      "   7.61402141e-010]\n",
      "  [1.96082969e+243 7.06764595e-096 6.96320200e-077 6.01346953e-154\n",
      "   1.05089607e-153]\n",
      "  [3.24245676e-086 6.01347002e-154 6.03103053e-154 7.19268018e+140\n",
      "   2.93573416e+222]]\n",
      "\n",
      " [[8.48406935e+175 2.59345414e+161 1.05089607e-153 3.84568617e-086\n",
      "   6.01347002e-154]\n",
      "  [6.03103053e-154 7.18988912e+140 6.01347002e-154 6.96320200e-077\n",
      "   5.55993283e+141]\n",
      "  [5.32255121e+005 2.55614266e+161 5.04502340e+223 1.47210311e-052\n",
      "   3.74168656e+233]\n",
      "  [5.28599610e-085 7.99290720e+005 1.37599547e-027 7.18807946e+140\n",
      "   2.68248436e-260]\n",
      "  [1.61674052e+184 6.14830416e-071 1.96082954e+243 4.57669588e-072\n",
      "   5.23166112e-320]]]\n"
     ]
    }
   ],
   "source": [
    "# allocate memory:\n",
    "\n",
    "empty = np.empty((5, 5, 5))\n",
    "\n",
    "print(empty)"
   ]
  },
  {
   "cell_type": "markdown",
   "id": "d41cb3f7-32ef-413f-b632-4e8460e1a0b3",
   "metadata": {},
   "source": [
    "also we have 2 functions that useful for generate sequences:"
   ]
  },
  {
   "cell_type": "code",
   "execution_count": 27,
   "id": "c0365f19-717a-4113-bae4-e0dcef9dc277",
   "metadata": {},
   "outputs": [],
   "source": [
    "x_values = np.arange(0, 1005, 5)"
   ]
  },
  {
   "cell_type": "code",
   "execution_count": 28,
   "id": "49e2a9e2-ed89-4bd5-83a0-f35ae73a5f2d",
   "metadata": {},
   "outputs": [
    {
     "name": "stdout",
     "output_type": "stream",
     "text": [
      "[   0    5   10   15   20   25   30   35   40   45   50   55   60   65\n",
      "   70   75   80   85   90   95  100  105  110  115  120  125  130  135\n",
      "  140  145  150  155  160  165  170  175  180  185  190  195  200  205\n",
      "  210  215  220  225  230  235  240  245  250  255  260  265  270  275\n",
      "  280  285  290  295  300  305  310  315  320  325  330  335  340  345\n",
      "  350  355  360  365  370  375  380  385  390  395  400  405  410  415\n",
      "  420  425  430  435  440  445  450  455  460  465  470  475  480  485\n",
      "  490  495  500  505  510  515  520  525  530  535  540  545  550  555\n",
      "  560  565  570  575  580  585  590  595  600  605  610  615  620  625\n",
      "  630  635  640  645  650  655  660  665  670  675  680  685  690  695\n",
      "  700  705  710  715  720  725  730  735  740  745  750  755  760  765\n",
      "  770  775  780  785  790  795  800  805  810  815  820  825  830  835\n",
      "  840  845  850  855  860  865  870  875  880  885  890  895  900  905\n",
      "  910  915  920  925  930  935  940  945  950  955  960  965  970  975\n",
      "  980  985  990  995 1000]\n"
     ]
    }
   ],
   "source": [
    "print(x_values)"
   ]
  },
  {
   "cell_type": "code",
   "execution_count": 29,
   "id": "2f777cc3-bcd4-4cb4-9d46-16c8677e9e27",
   "metadata": {},
   "outputs": [],
   "source": [
    "x_values = np.linspace(0, 1000, 1001)"
   ]
  },
  {
   "cell_type": "code",
   "execution_count": 30,
   "id": "708d68bd-8c3f-4b49-8f0e-65ae36b9446c",
   "metadata": {},
   "outputs": [
    {
     "name": "stdout",
     "output_type": "stream",
     "text": [
      "[   0.    1.    2. ...  998.  999. 1000.]\n"
     ]
    }
   ],
   "source": [
    "print(x_values)"
   ]
  },
  {
   "cell_type": "markdown",
   "id": "e8018f5f-bed5-4137-9d99-a630631679b3",
   "metadata": {},
   "source": [
    "## NaN & Inf:"
   ]
  },
  {
   "cell_type": "markdown",
   "id": "b5abaf49-1853-4208-b892-40158c537f64",
   "metadata": {},
   "source": [
    "NaN: <ins>**N**</ins>ot <ins>**a**</ins> <ins>**N**</ins>umber\n",
    "\n",
    "Inf: infinity"
   ]
  },
  {
   "cell_type": "code",
   "execution_count": 33,
   "id": "3c7cb787-60b1-4941-9e0b-63dccfa6843e",
   "metadata": {},
   "outputs": [
    {
     "data": {
      "text/plain": [
       "nan"
      ]
     },
     "execution_count": 33,
     "metadata": {},
     "output_type": "execute_result"
    }
   ],
   "source": [
    "np.nan"
   ]
  },
  {
   "cell_type": "code",
   "execution_count": 34,
   "id": "9e2a8468-a246-48d6-9b6f-f9833450c09d",
   "metadata": {},
   "outputs": [
    {
     "data": {
      "text/plain": [
       "inf"
      ]
     },
     "execution_count": 34,
     "metadata": {},
     "output_type": "execute_result"
    }
   ],
   "source": [
    "np.inf"
   ]
  },
  {
   "cell_type": "markdown",
   "id": "4af482e8-1bdc-4450-b55e-10b9523b2b1b",
   "metadata": {},
   "source": [
    "**Nan** can use in data sets if you load a huge data set in some colums\n",
    "\n",
    "**Inf** can use when you get results like a division by zero instead of just throwing an exception you can just return an infinity value"
   ]
  },
  {
   "cell_type": "code",
   "execution_count": 35,
   "id": "fd2bbb20-6510-446d-a384-36f8ed85d74a",
   "metadata": {},
   "outputs": [
    {
     "name": "stderr",
     "output_type": "stream",
     "text": [
      "C:\\Users\\shahr\\AppData\\Local\\Temp\\ipykernel_10080\\3438155168.py:1: RuntimeWarning: invalid value encountered in sqrt\n",
      "  np.sqrt(-1)\n"
     ]
    },
    {
     "data": {
      "text/plain": [
       "nan"
      ]
     },
     "execution_count": 35,
     "metadata": {},
     "output_type": "execute_result"
    }
   ],
   "source": [
    "np.sqrt(-1)"
   ]
  },
  {
   "cell_type": "code",
   "execution_count": 36,
   "id": "da6eaad0-4d90-4f73-87d2-cedc96da8ad4",
   "metadata": {},
   "outputs": [
    {
     "name": "stderr",
     "output_type": "stream",
     "text": [
      "C:\\Users\\shahr\\AppData\\Local\\Temp\\ipykernel_10080\\1576008465.py:1: RuntimeWarning: divide by zero encountered in divide\n",
      "  np.array([10]) / 0\n"
     ]
    },
    {
     "data": {
      "text/plain": [
       "array([inf])"
      ]
     },
     "execution_count": 36,
     "metadata": {},
     "output_type": "execute_result"
    }
   ],
   "source": [
    "np.array([10]) / 0"
   ]
  }
 ],
 "metadata": {
  "kernelspec": {
   "display_name": "Python 3 (ipykernel)",
   "language": "python",
   "name": "python3"
  },
  "language_info": {
   "codemirror_mode": {
    "name": "ipython",
    "version": 3
   },
   "file_extension": ".py",
   "mimetype": "text/x-python",
   "name": "python",
   "nbconvert_exporter": "python",
   "pygments_lexer": "ipython3",
   "version": "3.10.5"
  }
 },
 "nbformat": 4,
 "nbformat_minor": 5
}
